{
 "cells": [
  {
   "cell_type": "code",
   "execution_count": null,
   "metadata": {},
   "outputs": [],
   "source": [
    "\"\"\"\n",
    "This program uses a recommender system that gives the user a list of recommended movies based on\n",
    "what movie they inputted. This program utilizes Pandas to filter through a dataset of 45,000 movies\n",
    "and 26 million ratings. After filtering the necessary data, we will implement a recommender\n",
    "algorithm, specifically the cosine similarity algorithm to find the closest matches to a specific movie.\n",
    "\n",
    "The layout of this program will have a format like the one below:\n",
    "\n",
    "Classes: \n",
    "\n",
    "Movie_Server class: \n",
    "This class will parse the movie database using the user’s input and return a viewer rating, title and synopsis along with genre. \n",
    "\n",
    "Movie Class: \n",
    "This class will store the attributes of the movies such as rating, title and genre to be used more easily.\n",
    "\n",
    "Functions: \n",
    "\n",
    "Search function: \n",
    "This function will be within the Movie_Server class and search the database with the user inputted movie \n",
    "\n",
    "Read_in function: \n",
    "This function will read in the CSV and format the dataset to be used within the rest of the program. \n",
    "\n",
    "Recommendation function: \n",
    "This function will be used within the main function, using a recommending algorithm to find more movies that the user may like based on their search. \n",
    "\n",
    "Some of the main recommending factors: \n",
    "\n",
    "If the movie belongs to a collection \n",
    "Actors within the movie\n",
    "Genre of movie \n",
    "Ratings of similar movies \n",
    "\n",
    "\"\"\"\n",
    "import pandas as pd\n",
    "\n",
    "movies_df = pd.read_csv('movies_metadata.csv', usecols = ['title', 'genres', 'vote_average'])\n",
    "movies_df.head()"
   ]
  }
 ],
 "metadata": {
  "interpreter": {
   "hash": "8dde69a2dae5e408180b1f5c1bea86de7d765c5ee4f795d85472ace44142ed61"
  },
  "kernelspec": {
   "display_name": "Python 3.10.4 64-bit (windows store)",
   "language": "python",
   "name": "python3"
  },
  "language_info": {
   "codemirror_mode": {
    "name": "ipython",
    "version": 3
   },
   "file_extension": ".py",
   "mimetype": "text/x-python",
   "name": "python",
   "nbconvert_exporter": "python",
   "pygments_lexer": "ipython3",
   "version": "3.10.4"
  },
  "orig_nbformat": 4
 },
 "nbformat": 4,
 "nbformat_minor": 2
}
